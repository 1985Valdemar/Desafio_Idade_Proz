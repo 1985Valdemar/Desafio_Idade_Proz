{
 "cells": [
  {
   "cell_type": "markdown",
   "metadata": {},
   "source": [
    "Desenvolva um programa que recebe do usuário nome completo e ano de nascimento que seja entre 1922 e 2021.\n",
    "A partir dessas informações, o sistema mostrará o nome do usuário e a idade que completou, ou completará, no ano atual (2022).\n",
    "\n",
    "Caso o usuário não digite um número ou apareça um inválido no campo do ano, o sistema informará o erro e continuará perguntando até que um valor correto seja preenchido.\n",
    "\n",
    "Trabalhe esse código em seu IDE, suba ele para sua conta no GitHub e compartilhe o link desse projeto no campo ao lado para que outros desenvolvedores possam analisá-lo."
   ]
  },
  {
   "cell_type": "code",
   "execution_count": 4,
   "metadata": {},
   "outputs": [
    {
     "name": "stdout",
     "output_type": "stream",
     "text": [
      "\n",
      "Seja Bem Vendo a Calcular Idade\n",
      "\n",
      "******** Olá, valdemar! ********\n",
      "\n",
      "Você completou ou completará 39 anos em 2024.\n"
     ]
    }
   ],
   "source": [
    "import datetime\n",
    "\n",
    "def calcular_idade(ano_nascimento):\n",
    "    ano_atual = datetime.datetime.now().year\n",
    "    return ano_atual - ano_nascimento\n",
    "\n",
    "def main():\n",
    "    while True:\n",
    "        print(\"\\nSeja Bem Vendo a Calcular Idade\")\n",
    "        nome_completo = input(\"Digite seu nome completo: \")\n",
    "        try:\n",
    "            ano_nascimento = int(input(\"Digite seu ano de nascimento (entre 1922 e 2024): \"))\n",
    "            if 1922 <= ano_nascimento <= 2024:\n",
    "                idade = calcular_idade(ano_nascimento)\n",
    "                print(f\"\\n******** Olá, {nome_completo}! ********\")\n",
    "                print(f\"\\nVocê completou ou completará {idade} anos em 2024.\")\n",
    "                break\n",
    "            else:\n",
    "                print(\"Ano de nascimento fora do intervalo válido. Por favor, tente novamente.\")\n",
    "        except ValueError:\n",
    "            print(\"Ano de nascimento inválido. Por favor, digite um número válido.\")\n",
    "\n",
    "if __name__ == \"__main__\":\n",
    "    main()\n"
   ]
  },
  {
   "cell_type": "markdown",
   "metadata": {},
   "source": [
    "Codigo Otimizado, ficando mais organizado, facil de ler e tambem de manter"
   ]
  },
  {
   "cell_type": "code",
   "execution_count": 6,
   "metadata": {},
   "outputs": [
    {
     "name": "stdout",
     "output_type": "stream",
     "text": [
      "Olá, valdemar!\n",
      "Você completou ou completará 39 anos em 2024.\n"
     ]
    }
   ],
   "source": [
    "import datetime\n",
    "\n",
    "def calcular_idade(ano_nascimento):\n",
    "    ano_atual = datetime.datetime.now().year\n",
    "    return ano_atual - ano_nascimento\n",
    "\n",
    "def obter_ano_nascimento():\n",
    "    while True:\n",
    "        try:\n",
    "            ano_nascimento = int(input(\"Digite seu ano de nascimento (entre 1922 e 2024): \"))\n",
    "            if 1922 <= ano_nascimento <= 2024:\n",
    "                return ano_nascimento\n",
    "            else:\n",
    "                print(\"Ano de nascimento fora do intervalo válido. Por favor, tente novamente.\")\n",
    "        except ValueError:\n",
    "            print(\"Ano de nascimento inválido. Por favor, digite um número válido.\")\n",
    "\n",
    "def main():\n",
    "    nome_completo = input(\"Digite seu nome completo: \")\n",
    "    ano_nascimento = obter_ano_nascimento()\n",
    "    idade = calcular_idade(ano_nascimento)\n",
    "    print(f\"Olá, {nome_completo}!\")\n",
    "    print(f\"Você completou ou completará {idade} anos em 2024.\")\n",
    "\n",
    "if __name__ == \"__main__\":\n",
    "    main()\n"
   ]
  }
 ],
 "metadata": {
  "kernelspec": {
   "display_name": "Python 3",
   "language": "python",
   "name": "python3"
  },
  "language_info": {
   "codemirror_mode": {
    "name": "ipython",
    "version": 3
   },
   "file_extension": ".py",
   "mimetype": "text/x-python",
   "name": "python",
   "nbconvert_exporter": "python",
   "pygments_lexer": "ipython3",
   "version": "3.12.0"
  }
 },
 "nbformat": 4,
 "nbformat_minor": 2
}
